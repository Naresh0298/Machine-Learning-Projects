{
 "cells": [
  {
   "cell_type": "code",
   "execution_count": null,
   "id": "d2be4665-1e0c-4e03-9e25-a7346f71f063",
   "metadata": {},
   "outputs": [],
   "source": [
    "import numpy as np\n",
    "import tensorflow as tf\n",
    "from tensorflow.keras.models import Sequential\n",
    "from tensorflow.keras.layers import Conv2D, MaxPooling2D, Flatten, Dense, Dropout, BatchNormalization, Input\n",
    "from tensorflow.keras.optimizers import Adam\n",
    "from tensorflow.keras.utils import to_categorical\n",
    "from tensorflow.keras.preprocessing.image import ImageDataGenerator\n",
    "from tensorflow.keras.callbacks import EarlyStopping, ModelCheckpoint, ReduceLROnPlateau\n",
    "from matplotlib import pyplot\n",
    "\n",
    "# Load dataset\n",
    "from keras.datasets import fashion_mnist\n",
    "(trainX, trainy), (testX, testy) = fashion_mnist.load_data()\n",
    "\n",
    "# Reshape and normalize data\n",
    "trainX = trainX.reshape((trainX.shape[0], 28, 28, 1)).astype('float32') / 255.0\n",
    "testX = testX.reshape((testX.shape[0], 28, 28, 1)).astype('float32') / 255.0\n",
    "\n",
    "# One-hot encode labels\n",
    "trainy = to_categorical(trainy)\n",
    "testy = to_categorical(testy)\n",
    "\n",
    "# # Data augmentation\n",
    "# datagen = ImageDataGenerator(\n",
    "#     rotation_range=20,\n",
    "#     width_shift_range=0.2,\n",
    "#     height_shift_range=0.2,\n",
    "#     horizontal_flip=True,\n",
    "#     zoom_range=0.2,\n",
    "#     brightness_range=[0.8, 1.2],\n",
    "#     fill_mode='nearest'\n",
    "# )\n",
    "# datagen.fit(trainX)"
   ]
  },
  {
   "cell_type": "code",
   "execution_count": null,
   "id": "0629854e-6145-45f7-b528-6aa2e592e3e9",
   "metadata": {},
   "outputs": [],
   "source": [
    "\n",
    "# Define model architecture\n",
    "def setup_model():\n",
    "    model = Sequential([\n",
    "        Input(shape=(28, 28, 1)),\n",
    "        Conv2D(32, (3, 3), padding='same', activation='relu', kernel_initializer='he_uniform'),\n",
    "        BatchNormalization(),\n",
    "        MaxPooling2D((2, 2)),\n",
    "        Dropout(0.25),\n",
    "\n",
    "        Conv2D(64, (3, 3), activation='relu', kernel_initializer='he_uniform'),\n",
    "        BatchNormalization(),\n",
    "        MaxPooling2D((2, 2)),\n",
    "        Dropout(0.25),\n",
    "\n",
    "        Flatten(),\n",
    "        Dense(128, activation='relu', kernel_initializer='he_uniform'),\n",
    "        BatchNormalization(),\n",
    "        Dropout(0.5),\n",
    "\n",
    "        Dense(10, activation='softmax')\n",
    "    ])\n",
    "\n",
    "    model.compile(optimizer=Adam(learning_rate=0.001),\n",
    "                  loss='categorical_crossentropy',\n",
    "                  metrics=['accuracy'])\n",
    "    return model"
   ]
  },
  {
   "cell_type": "code",
   "execution_count": null,
   "id": "e4942791-24fe-4319-8fb7-ee0dc92c741f",
   "metadata": {},
   "outputs": [],
   "source": [
    "def train_model(trainX, trainy, valX, valy):\n",
    "    model = setup_model()\n",
    "\n",
    "    # # Callbacks\n",
    "    # early_stopping = EarlyStopping(monitor='val_loss', patience=5, restore_best_weights=True)\n",
    "    # model_checkpoint = ModelCheckpoint('best_model.h5', save_best_only=True, monitor='val_loss')\n",
    "    # lr_scheduler = ReduceLROnPlateau(monitor='val_loss', factor=0.5, patience=3)\n",
    "\n",
    "    # Train the model\n",
    "    history = model.fit(trainX, trainy, batch_size=32,\n",
    "                        validation_data=(valX, valy),\n",
    "                        epochs=100, verbose=1,\n",
    "                        )\n",
    "    return model, history"
   ]
  },
  {
   "cell_type": "code",
   "execution_count": null,
   "id": "210ca8fb-5387-4f68-a39f-8b24ff3ad1dc",
   "metadata": {},
   "outputs": [],
   "source": [
    "# Split data for training and validation\n",
    "from sklearn.model_selection import train_test_split\n",
    "trainX, valX, trainy, valy = train_test_split(trainX, trainy, test_size=0.2, random_state=1)"
   ]
  },
  {
   "cell_type": "code",
   "execution_count": null,
   "id": "b5c7cded-a060-45cf-ae40-2b19aad7cd92",
   "metadata": {},
   "outputs": [],
   "source": [
    "\n",
    "# Train and evaluate the model\n",
    "model, history = train_model(trainX, trainy, valX, valy)"
   ]
  },
  {
   "cell_type": "code",
   "execution_count": null,
   "id": "08e5eb84-0781-4c1e-bd61-04ebc9a165ce",
   "metadata": {},
   "outputs": [],
   "source": [
    "_, acc = model.evaluate(testX, testy, verbose=1)\n",
    "print(f'Test Accuracy: {acc * 100:.3f}%')"
   ]
  },
  {
   "cell_type": "code",
   "execution_count": null,
   "id": "3d644563-1016-4265-82c5-98cfc75b50da",
   "metadata": {},
   "outputs": [],
   "source": [
    "\n",
    "# Plot learning curves\n",
    "def summarize_diagnostics(history):\n",
    "    pyplot.subplot(2, 1, 1)\n",
    "    pyplot.title('Cross Entropy Loss')\n",
    "    pyplot.plot(history.history['loss'], color='blue', label='train')\n",
    "    pyplot.plot(history.history['val_loss'], color='orange', label='val')\n",
    "\n",
    "    pyplot.subplot(2, 1, 2)\n",
    "    pyplot.title('Classification Accuracy')\n",
    "    pyplot.plot(history.history['accuracy'], color='blue', label='train')\n",
    "    pyplot.plot(history.history['val_accuracy'], color='orange', label='val')\n",
    "    pyplot.show()\n",
    "\n",
    "# Summarize results\n",
    "summarize_diagnostics(history)\n",
    "\n",
    "\n"
   ]
  },
  {
   "cell_type": "code",
   "execution_count": null,
   "id": "54d58916-f8d0-4e5d-8338-bc8f04400a99",
   "metadata": {},
   "outputs": [],
   "source": []
  },
  {
   "cell_type": "code",
   "execution_count": null,
   "id": "0b98e303-e967-4b0e-9d42-2f05fe40319a",
   "metadata": {},
   "outputs": [],
   "source": [
    "model.save('new_best_model_2.h5')"
   ]
  },
  {
   "cell_type": "code",
   "execution_count": null,
   "id": "447914fc-c3ba-444d-8814-3ade71b37410",
   "metadata": {},
   "outputs": [],
   "source": [
    "from tensorflow.keras.preprocessing.image import load_img, img_to_array\n",
    "\n",
    "def loadSample(filename):\n",
    "    # Load the image, convert to grayscale, and resize to (28, 28)\n",
    "    img = load_img(filename, color_mode='grayscale', target_size=(28, 28))\n",
    "    \n",
    "    # Convert image to numpy array\n",
    "    img = img_to_array(img)\n",
    "    \n",
    "    # Reshape image to (1, 28, 28, 1) to match model input\n",
    "    img = img.reshape(1, 28, 28, 1)\n",
    "    \n",
    "    # Normalize the image to the range [0, 1]\n",
    "    img = img.astype('float32')\n",
    "    img = img / 255.0\n",
    "    \n",
    "    return img\n"
   ]
  },
  {
   "cell_type": "code",
   "execution_count": null,
   "id": "2964182c-9cdd-4ef8-ada1-19daaa3a5209",
   "metadata": {},
   "outputs": [],
   "source": [
    "test_img = 'test_img4.jpg'"
   ]
  },
  {
   "cell_type": "code",
   "execution_count": null,
   "id": "b218bf5c-22ef-4175-8c66-72b53c1b91eb",
   "metadata": {},
   "outputs": [],
   "source": [
    "from IPython.display import Image, display\n",
    "display(Image(test_img))"
   ]
  },
  {
   "cell_type": "code",
   "execution_count": null,
   "id": "f16dc46d-9a3c-482e-9b80-19dd7561d964",
   "metadata": {},
   "outputs": [],
   "source": [
    "preprocesd = loadSample(test_img)"
   ]
  },
  {
   "cell_type": "code",
   "execution_count": null,
   "id": "06755f60-aaad-4d07-a7f9-3f1c1d06f103",
   "metadata": {},
   "outputs": [],
   "source": [
    "from tensorflow.keras.models import load_model\n",
    "test_model = load_model('new_best_model.h5')"
   ]
  },
  {
   "cell_type": "code",
   "execution_count": null,
   "id": "9a2a9f4e-c829-4ed4-91f8-104bd8436c19",
   "metadata": {},
   "outputs": [],
   "source": [
    "result = test_model.predict(preprocesd)"
   ]
  },
  {
   "cell_type": "code",
   "execution_count": null,
   "id": "79e1e3d8-3307-40e4-b98d-ed45767469d3",
   "metadata": {},
   "outputs": [],
   "source": [
    "# Get the predicted class (index of the highest probability)\n",
    "predicted_classes = np.argmax(result, axis=1)"
   ]
  },
  {
   "cell_type": "code",
   "execution_count": null,
   "id": "872833af-9a45-4e91-a796-1973582e37e0",
   "metadata": {},
   "outputs": [],
   "source": [
    "# Display the predicted classes\n",
    "print(predicted_classes)"
   ]
  },
  {
   "cell_type": "code",
   "execution_count": null,
   "id": "9eb2008d-deca-497f-9895-f9fd2fc0553c",
   "metadata": {},
   "outputs": [],
   "source": []
  },
  {
   "cell_type": "code",
   "execution_count": null,
   "id": "937c0d7b-a131-4e20-8606-f1abd9e9b09c",
   "metadata": {},
   "outputs": [],
   "source": []
  }
 ],
 "metadata": {
  "kernelspec": {
   "display_name": "Python (tf-gpu)",
   "language": "python",
   "name": "tf-gpu"
  },
  "language_info": {
   "codemirror_mode": {
    "name": "ipython",
    "version": 3
   },
   "file_extension": ".py",
   "mimetype": "text/x-python",
   "name": "python",
   "nbconvert_exporter": "python",
   "pygments_lexer": "ipython3",
   "version": "3.9.21"
  }
 },
 "nbformat": 4,
 "nbformat_minor": 5
}
