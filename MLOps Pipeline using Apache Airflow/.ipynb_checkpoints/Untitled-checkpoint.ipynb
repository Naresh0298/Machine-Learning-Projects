{
 "cells": [
  {
   "cell_type": "code",
   "execution_count": 8,
   "id": "14d0c710-1f6e-4a45-9ef3-9013a7c5bffb",
   "metadata": {},
   "outputs": [],
   "source": [
    "import pandas as pd\n",
    "from sklearn.preprocessing import MinMaxScaler"
   ]
  },
  {
   "cell_type": "markdown",
   "id": "5a9c49db-2edc-4bcd-b975-009d597ea753",
   "metadata": {},
   "source": [
    "#load data"
   ]
  },
  {
   "cell_type": "code",
   "execution_count": 15,
   "id": "8d71233f-d46a-4905-98e0-82c3d89be0ae",
   "metadata": {},
   "outputs": [],
   "source": [
    "data = pd.read_csv(\"screentime_analysis.csv\")"
   ]
  },
  {
   "cell_type": "code",
   "execution_count": 17,
   "id": "c1d67b51-fc82-443e-8446-70f531dc0061",
   "metadata": {},
   "outputs": [
    {
     "data": {
      "text/html": [
       "<div>\n",
       "<style scoped>\n",
       "    .dataframe tbody tr th:only-of-type {\n",
       "        vertical-align: middle;\n",
       "    }\n",
       "\n",
       "    .dataframe tbody tr th {\n",
       "        vertical-align: top;\n",
       "    }\n",
       "\n",
       "    .dataframe thead th {\n",
       "        text-align: right;\n",
       "    }\n",
       "</style>\n",
       "<table border=\"1\" class=\"dataframe\">\n",
       "  <thead>\n",
       "    <tr style=\"text-align: right;\">\n",
       "      <th></th>\n",
       "      <th>Date</th>\n",
       "      <th>App</th>\n",
       "      <th>Usage (minutes)</th>\n",
       "      <th>Notifications</th>\n",
       "      <th>Times Opened</th>\n",
       "    </tr>\n",
       "  </thead>\n",
       "  <tbody>\n",
       "    <tr>\n",
       "      <th>0</th>\n",
       "      <td>2024-08-07</td>\n",
       "      <td>Instagram</td>\n",
       "      <td>81</td>\n",
       "      <td>24</td>\n",
       "      <td>57</td>\n",
       "    </tr>\n",
       "    <tr>\n",
       "      <th>1</th>\n",
       "      <td>2024-08-08</td>\n",
       "      <td>Instagram</td>\n",
       "      <td>90</td>\n",
       "      <td>30</td>\n",
       "      <td>53</td>\n",
       "    </tr>\n",
       "    <tr>\n",
       "      <th>2</th>\n",
       "      <td>2024-08-26</td>\n",
       "      <td>Instagram</td>\n",
       "      <td>112</td>\n",
       "      <td>33</td>\n",
       "      <td>17</td>\n",
       "    </tr>\n",
       "    <tr>\n",
       "      <th>3</th>\n",
       "      <td>2024-08-22</td>\n",
       "      <td>Instagram</td>\n",
       "      <td>82</td>\n",
       "      <td>11</td>\n",
       "      <td>38</td>\n",
       "    </tr>\n",
       "    <tr>\n",
       "      <th>4</th>\n",
       "      <td>2024-08-12</td>\n",
       "      <td>Instagram</td>\n",
       "      <td>59</td>\n",
       "      <td>47</td>\n",
       "      <td>16</td>\n",
       "    </tr>\n",
       "  </tbody>\n",
       "</table>\n",
       "</div>"
      ],
      "text/plain": [
       "         Date        App  Usage (minutes)  Notifications  Times Opened\n",
       "0  2024-08-07  Instagram               81             24            57\n",
       "1  2024-08-08  Instagram               90             30            53\n",
       "2  2024-08-26  Instagram              112             33            17\n",
       "3  2024-08-22  Instagram               82             11            38\n",
       "4  2024-08-12  Instagram               59             47            16"
      ]
     },
     "execution_count": 17,
     "metadata": {},
     "output_type": "execute_result"
    }
   ],
   "source": [
    "data.head()"
   ]
  },
  {
   "cell_type": "code",
   "execution_count": 22,
   "id": "1b20e140-ce59-41a8-b48c-35a8341971dd",
   "metadata": {},
   "outputs": [
    {
     "name": "stdout",
     "output_type": "stream",
     "text": [
      "App\n",
      "Instagram      25\n",
      "X              25\n",
      "WhatsApp       25\n",
      "8 Ball Pool    25\n",
      "Safari         25\n",
      "Netflix        25\n",
      "Facebook       25\n",
      "LinkedIn       25\n",
      "Name: count, dtype: int64\n"
     ]
    }
   ],
   "source": [
    "print(data['App'].value_counts())"
   ]
  },
  {
   "cell_type": "code",
   "execution_count": 14,
   "id": "e6fa67c0-578e-43dd-851d-7476e89c065d",
   "metadata": {},
   "outputs": [
    {
     "name": "stdout",
     "output_type": "stream",
     "text": [
      "Date               0\n",
      "App                0\n",
      "Usage (minutes)    0\n",
      "Notifications      0\n",
      "Times Opened       0\n",
      "dtype: int64\n",
      "-------\n",
      "0\n"
     ]
    }
   ],
   "source": [
    "print(data.isnull().sum())\n",
    "print(\"-------\")\n",
    "print(data.duplicated().sum())"
   ]
  },
  {
   "cell_type": "code",
   "execution_count": 24,
   "id": "f29dc247-903f-477c-a08a-e1654fdea5bb",
   "metadata": {},
   "outputs": [
    {
     "data": {
      "text/plain": [
       "0     2024-08-07\n",
       "1     2024-08-08\n",
       "2     2024-08-26\n",
       "3     2024-08-22\n",
       "4     2024-08-12\n",
       "         ...    \n",
       "195   2024-08-10\n",
       "196   2024-08-23\n",
       "197   2024-08-18\n",
       "198   2024-08-26\n",
       "199   2024-08-02\n",
       "Name: Date, Length: 200, dtype: datetime64[ns]"
      ]
     },
     "execution_count": 24,
     "metadata": {},
     "output_type": "execute_result"
    }
   ],
   "source": [
    "data['Date'] = pd.to_datetime(data['Date'])\n",
    "data['Date']"
   ]
  },
  {
   "cell_type": "code",
   "execution_count": 27,
   "id": "29fcfdf8-fd3b-426c-bd00-70404b4a4cbb",
   "metadata": {},
   "outputs": [
    {
     "name": "stdout",
     "output_type": "stream",
     "text": [
      "0      2\n",
      "1      3\n",
      "2      0\n",
      "3      3\n",
      "4      0\n",
      "      ..\n",
      "195    5\n",
      "196    4\n",
      "197    6\n",
      "198    0\n",
      "199    4\n",
      "Name: DayofWeek, Length: 200, dtype: int32\n"
     ]
    }
   ],
   "source": [
    "data['DayofWeek'] = data['Date'].dt.dayofweek\n",
    "print(data['DayofWeek'])"
   ]
  },
  {
   "cell_type": "code",
   "execution_count": 30,
   "id": "1b4b368d-9498-458b-8f11-66531ea56c98",
   "metadata": {},
   "outputs": [
    {
     "name": "stdout",
     "output_type": "stream",
     "text": [
      "0      8\n",
      "1      8\n",
      "2      8\n",
      "3      8\n",
      "4      8\n",
      "      ..\n",
      "195    8\n",
      "196    8\n",
      "197    8\n",
      "198    8\n",
      "199    8\n",
      "Name: Month, Length: 200, dtype: int32\n",
      "          Date        App  Usage (minutes)  Notifications  Times Opened  \\\n",
      "0   2024-08-07  Instagram               81             24            57   \n",
      "1   2024-08-08  Instagram               90             30            53   \n",
      "2   2024-08-26  Instagram              112             33            17   \n",
      "3   2024-08-22  Instagram               82             11            38   \n",
      "4   2024-08-12  Instagram               59             47            16   \n",
      "..         ...        ...              ...            ...           ...   \n",
      "195 2024-08-10   LinkedIn               22             12             5   \n",
      "196 2024-08-23   LinkedIn                5              7             1   \n",
      "197 2024-08-18   LinkedIn               19              2             5   \n",
      "198 2024-08-26   LinkedIn               21             14             1   \n",
      "199 2024-08-02   LinkedIn               13              4             1   \n",
      "\n",
      "     DayofWeek  Month  \n",
      "0            2      8  \n",
      "1            3      8  \n",
      "2            0      8  \n",
      "3            3      8  \n",
      "4            0      8  \n",
      "..         ...    ...  \n",
      "195          5      8  \n",
      "196          4      8  \n",
      "197          6      8  \n",
      "198          0      8  \n",
      "199          4      8  \n",
      "\n",
      "[200 rows x 7 columns]\n"
     ]
    }
   ],
   "source": [
    "data['Month'] = data['Date'].dt.month\n",
    "print(data['Month'])\n",
    "print(data)"
   ]
  },
  {
   "cell_type": "code",
   "execution_count": 31,
   "id": "79c05f01-18b7-48b7-897c-a2655a7e0eb1",
   "metadata": {},
   "outputs": [],
   "source": [
    "#convert numerical to categorical features"
   ]
  },
  {
   "cell_type": "code",
   "execution_count": null,
   "id": "8373bb5b-5900-4c62-a1ff-3650f96de239",
   "metadata": {},
   "outputs": [],
   "source": []
  },
  {
   "cell_type": "code",
   "execution_count": null,
   "id": "abde8ae2-41a6-49e2-a12b-339d6d9aad4e",
   "metadata": {},
   "outputs": [],
   "source": []
  }
 ],
 "metadata": {
  "kernelspec": {
   "display_name": "Python (tf-gpu)",
   "language": "python",
   "name": "tf-gpu"
  },
  "language_info": {
   "codemirror_mode": {
    "name": "ipython",
    "version": 3
   },
   "file_extension": ".py",
   "mimetype": "text/x-python",
   "name": "python",
   "nbconvert_exporter": "python",
   "pygments_lexer": "ipython3",
   "version": "3.9.21"
  }
 },
 "nbformat": 4,
 "nbformat_minor": 5
}
