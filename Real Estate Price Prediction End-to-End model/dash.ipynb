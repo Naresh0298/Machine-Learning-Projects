{
 "cells": [
  {
   "cell_type": "code",
   "execution_count": null,
   "id": "04c3d217-fbdf-4bdb-9e98-ac7fb7f9c31a",
   "metadata": {},
   "outputs": [],
   "source": [
    "model"
   ]
  },
  {
   "cell_type": "code",
   "execution_count": 5,
   "id": "38d999bc-a56f-42e5-9895-22c18c370688",
   "metadata": {},
   "outputs": [
    {
     "data": {
      "text/html": [
       "\n",
       "        <iframe\n",
       "            width=\"100%\"\n",
       "            height=\"650\"\n",
       "            src=\"http://127.0.0.1:8050/\"\n",
       "            frameborder=\"0\"\n",
       "            allowfullscreen\n",
       "            \n",
       "        ></iframe>\n",
       "        "
      ],
      "text/plain": [
       "<IPython.lib.display.IFrame at 0x204f9b2e0c0>"
      ]
     },
     "metadata": {},
     "output_type": "display_data"
    },
    {
     "name": "stdout",
     "output_type": "stream",
     "text": [
      "---------------------------------------------------------------------------\n",
      "NameError                                 Traceback (most recent call last)\n",
      "Cell In[5], line 45, in update_output(\n",
      "    n_clicks=3,\n",
      "    distance_to_mrt=274.0144,\n",
      "    num_convenience_stores=8,\n",
      "    latitude=25.012148,\n",
      "    longitude=121.52833\n",
      ")\n",
      "     42     features = pd.DataFrame([[distance_to_mrt, num_convenience_stores, latitude, longitude]], \n",
      "     43                             columns=['distance_to_mrt', 'num_convenience_stores', 'latitude', 'longitude'])\n",
      "     44     # Predict\n",
      "---> 45     prediction = model.predict(features)[0]\n",
      "        features =    distance_to_mrt  num_convenience_stores   latitude  longitude\n",
      "0         274.0144                       8  25.012148  121.52833\n",
      "     46     return f'Predicted House Price of Unit Area: {prediction:.2f}'\n",
      "     47 elif n_clicks > 0:\n",
      "\n",
      "NameError: name 'model' is not defined\n",
      "\n"
     ]
    }
   ],
   "source": [
    "import dash\n",
    "from dash import html, dcc, Input, Output, State\n",
    "import pandas as pd\n",
    "\n",
    "# Initialize the Dash app\n",
    "app = dash.Dash(__name__)\n",
    "\n",
    "# Define the layout of the app\n",
    "app.layout = html.Div([\n",
    "    html.Div([\n",
    "        html.H1(\"Real Estate Price Prediction\", style={'text-align': 'center'}),\n",
    "        \n",
    "        html.Div([\n",
    "            dcc.Input(id='distance_to_mrt', type='number', placeholder='Distance to MRT Station (meters)',\n",
    "                      style={'margin': '10px', 'padding': '10px'}),\n",
    "            dcc.Input(id='num_convenience_stores', type='number', placeholder='Number of Convenience Stores',\n",
    "                      style={'margin': '10px', 'padding': '10px'}),\n",
    "            dcc.Input(id='latitude', type='number', placeholder='Latitude',\n",
    "                      style={'margin': '10px', 'padding': '10px'}),\n",
    "            dcc.Input(id='longitude', type='number', placeholder='Longitude',\n",
    "                      style={'margin': '10px', 'padding': '10px'}),\n",
    "            html.Button('Predict Price', id='predict_button', n_clicks=0,\n",
    "                        style={'margin': '10px', 'padding': '10px', 'background-color': '#007BFF', 'color': 'white'}),\n",
    "        ], style={'text-align': 'center'}),\n",
    "        \n",
    "        html.Div(id='prediction_output', style={'text-align': 'center', 'font-size': '20px', 'margin-top': '20px'})\n",
    "    ], style={'width': '50%', 'margin': '0 auto', 'border': '2px solid #007BFF', 'padding': '20px', 'border-radius': '10px'})\n",
    "])\n",
    "\n",
    "# Define callback to update output\n",
    "@app.callback(\n",
    "    Output('prediction_output', 'children'),\n",
    "    [Input('predict_button', 'n_clicks')],\n",
    "    [State('distance_to_mrt', 'value'), \n",
    "     State('num_convenience_stores', 'value'),\n",
    "     State('latitude', 'value'),\n",
    "     State('longitude', 'value')]\n",
    ")\n",
    "def update_output(n_clicks, distance_to_mrt, num_convenience_stores, latitude, longitude):\n",
    "    if n_clicks > 0 and all(v is not None for v in [distance_to_mrt, num_convenience_stores, latitude, longitude]):\n",
    "        # Prepare the feature vector\n",
    "        features = pd.DataFrame([[distance_to_mrt, num_convenience_stores, latitude, longitude]], \n",
    "                                columns=['distance_to_mrt', 'num_convenience_stores', 'latitude', 'longitude'])\n",
    "        # Predict\n",
    "        prediction = model.predict(features)[0]\n",
    "        return f'Predicted House Price of Unit Area: {prediction:.2f}'\n",
    "    elif n_clicks > 0:\n",
    "        return 'Please enter all values to get a prediction'\n",
    "    return ''\n",
    "\n",
    "# Run the app\n",
    "if __name__ == '__main__':\n",
    "    app.run_server(debug=True)"
   ]
  },
  {
   "cell_type": "code",
   "execution_count": 3,
   "id": "56fedc90-c854-48bf-bb45-fd9ba2fcccf9",
   "metadata": {},
   "outputs": [
    {
     "name": "stdout",
     "output_type": "stream",
     "text": [
      "Collecting dash\n",
      "  Downloading dash-2.18.2-py3-none-any.whl.metadata (10 kB)\n",
      "Requirement already satisfied: Flask<3.1,>=1.0.4 in c:\\users\\nares\\anaconda3\\lib\\site-packages (from dash) (3.0.3)\n",
      "Requirement already satisfied: Werkzeug<3.1 in c:\\users\\nares\\anaconda3\\lib\\site-packages (from dash) (3.0.3)\n",
      "Requirement already satisfied: plotly>=5.0.0 in c:\\users\\nares\\anaconda3\\lib\\site-packages (from dash) (5.24.1)\n",
      "Collecting dash-html-components==2.0.0 (from dash)\n",
      "  Downloading dash_html_components-2.0.0-py3-none-any.whl.metadata (3.8 kB)\n",
      "Collecting dash-core-components==2.0.0 (from dash)\n",
      "  Downloading dash_core_components-2.0.0-py3-none-any.whl.metadata (2.9 kB)\n",
      "Collecting dash-table==5.0.0 (from dash)\n",
      "  Downloading dash_table-5.0.0-py3-none-any.whl.metadata (2.4 kB)\n",
      "Requirement already satisfied: importlib-metadata in c:\\users\\nares\\anaconda3\\lib\\site-packages (from dash) (7.0.1)\n",
      "Requirement already satisfied: typing-extensions>=4.1.1 in c:\\users\\nares\\anaconda3\\lib\\site-packages (from dash) (4.11.0)\n",
      "Requirement already satisfied: requests in c:\\users\\nares\\anaconda3\\lib\\site-packages (from dash) (2.32.3)\n",
      "Collecting retrying (from dash)\n",
      "  Downloading retrying-1.3.4-py3-none-any.whl.metadata (6.9 kB)\n",
      "Requirement already satisfied: nest-asyncio in c:\\users\\nares\\anaconda3\\lib\\site-packages (from dash) (1.6.0)\n",
      "Requirement already satisfied: setuptools in c:\\users\\nares\\anaconda3\\lib\\site-packages (from dash) (75.1.0)\n",
      "Requirement already satisfied: Jinja2>=3.1.2 in c:\\users\\nares\\anaconda3\\lib\\site-packages (from Flask<3.1,>=1.0.4->dash) (3.1.4)\n",
      "Requirement already satisfied: itsdangerous>=2.1.2 in c:\\users\\nares\\anaconda3\\lib\\site-packages (from Flask<3.1,>=1.0.4->dash) (2.2.0)\n",
      "Requirement already satisfied: click>=8.1.3 in c:\\users\\nares\\anaconda3\\lib\\site-packages (from Flask<3.1,>=1.0.4->dash) (8.1.7)\n",
      "Requirement already satisfied: blinker>=1.6.2 in c:\\users\\nares\\anaconda3\\lib\\site-packages (from Flask<3.1,>=1.0.4->dash) (1.6.2)\n",
      "Requirement already satisfied: tenacity>=6.2.0 in c:\\users\\nares\\anaconda3\\lib\\site-packages (from plotly>=5.0.0->dash) (8.2.3)\n",
      "Requirement already satisfied: packaging in c:\\users\\nares\\anaconda3\\lib\\site-packages (from plotly>=5.0.0->dash) (24.1)\n",
      "Requirement already satisfied: MarkupSafe>=2.1.1 in c:\\users\\nares\\anaconda3\\lib\\site-packages (from Werkzeug<3.1->dash) (2.1.3)\n",
      "Requirement already satisfied: zipp>=0.5 in c:\\users\\nares\\anaconda3\\lib\\site-packages (from importlib-metadata->dash) (3.17.0)\n",
      "Requirement already satisfied: charset-normalizer<4,>=2 in c:\\users\\nares\\anaconda3\\lib\\site-packages (from requests->dash) (3.3.2)\n",
      "Requirement already satisfied: idna<4,>=2.5 in c:\\users\\nares\\anaconda3\\lib\\site-packages (from requests->dash) (3.7)\n",
      "Requirement already satisfied: urllib3<3,>=1.21.1 in c:\\users\\nares\\anaconda3\\lib\\site-packages (from requests->dash) (2.2.3)\n",
      "Requirement already satisfied: certifi>=2017.4.17 in c:\\users\\nares\\anaconda3\\lib\\site-packages (from requests->dash) (2024.12.14)\n",
      "Requirement already satisfied: six>=1.7.0 in c:\\users\\nares\\anaconda3\\lib\\site-packages (from retrying->dash) (1.16.0)\n",
      "Requirement already satisfied: colorama in c:\\users\\nares\\anaconda3\\lib\\site-packages (from click>=8.1.3->Flask<3.1,>=1.0.4->dash) (0.4.6)\n",
      "Downloading dash-2.18.2-py3-none-any.whl (7.8 MB)\n",
      "   ---------------------------------------- 0.0/7.8 MB ? eta -:--:--\n",
      "   ---- ----------------------------------- 0.8/7.8 MB 4.2 MB/s eta 0:00:02\n",
      "   -------- ------------------------------- 1.6/7.8 MB 4.2 MB/s eta 0:00:02\n",
      "   ------------ --------------------------- 2.4/7.8 MB 3.9 MB/s eta 0:00:02\n",
      "   ---------------- ----------------------- 3.1/7.8 MB 4.0 MB/s eta 0:00:02\n",
      "   -------------------- ------------------- 3.9/7.8 MB 4.0 MB/s eta 0:00:01\n",
      "   ------------------------ --------------- 4.7/7.8 MB 3.9 MB/s eta 0:00:01\n",
      "   ---------------------------- ----------- 5.5/7.8 MB 3.9 MB/s eta 0:00:01\n",
      "   --------------------------------- ------ 6.6/7.8 MB 3.9 MB/s eta 0:00:01\n",
      "   ------------------------------------- -- 7.3/7.8 MB 3.9 MB/s eta 0:00:01\n",
      "   ---------------------------------------- 7.8/7.8 MB 3.9 MB/s eta 0:00:00\n",
      "Downloading dash_core_components-2.0.0-py3-none-any.whl (3.8 kB)\n",
      "Downloading dash_html_components-2.0.0-py3-none-any.whl (4.1 kB)\n",
      "Downloading dash_table-5.0.0-py3-none-any.whl (3.9 kB)\n",
      "Downloading retrying-1.3.4-py3-none-any.whl (11 kB)\n",
      "Installing collected packages: dash-table, dash-html-components, dash-core-components, retrying, dash\n",
      "Successfully installed dash-2.18.2 dash-core-components-2.0.0 dash-html-components-2.0.0 dash-table-5.0.0 retrying-1.3.4\n"
     ]
    }
   ],
   "source": [
    "!pip install dash"
   ]
  },
  {
   "cell_type": "code",
   "execution_count": null,
   "id": "5e71f3b5-0462-481d-a2c8-d218095d54a8",
   "metadata": {},
   "outputs": [],
   "source": []
  }
 ],
 "metadata": {
  "kernelspec": {
   "display_name": "Python 3 (ipykernel)",
   "language": "python",
   "name": "python3"
  },
  "language_info": {
   "codemirror_mode": {
    "name": "ipython",
    "version": 3
   },
   "file_extension": ".py",
   "mimetype": "text/x-python",
   "name": "python",
   "nbconvert_exporter": "python",
   "pygments_lexer": "ipython3",
   "version": "3.12.3"
  }
 },
 "nbformat": 4,
 "nbformat_minor": 5
}
